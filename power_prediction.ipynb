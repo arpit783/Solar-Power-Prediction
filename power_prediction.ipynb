# -*- coding: utf-8 -*-
"""
Created on Fri Jul 10 17:39:03 2020

@author: Hp
"""

import pandas as pd
import numpy as np
import matplotlib.pyplot as plt

weatherActual = pd.read_csv("weather_actuals_processed.csv")
powerActual = pd.read_csv("power_actual.csv")

powerActual['Time'] = pd.to_datetime(powerActual['datetime'])
df = powerActual.resample('60min', on='Time').mean()
df = df.reset_index()
df.drop(df.index[range(3744, 7645)], axis=0, inplace=True)
df = df.reset_index()

mean = weatherActual.loc[weatherActual['pressure']>0, 'pressure'].mean()
weatherActual["pressure"] = np.where(weatherActual["pressure"] <0, mean ,weatherActual["pressure"])

trainingDataset = pd.concat([df, weatherActual], axis=1)
trainingDataset = trainingDataset[df.ghi != 0]
trainingDataset = trainingDataset.reset_index()
trainingDataset.drop(trainingDataset.columns[[0, 1, 2, 3, 4, 5, 7, 8, 9, 10, 18, 20, 22, 24, 25, 26, 28, 33, 34, 37]], axis=1, inplace=True)

trainingDataset['precip_type'] = trainingDataset['precip_type'].replace(np.nan, 'x', regex=True)
trainingDataset['precip_type'] = trainingDataset['precip_type'].astype(str)
trainingDataset['precip_type'] = trainingDataset['precip_type'].replace(str(-9999),'x')

trainingDataset = trainingDataset[trainingDataset.cloud_cover != -9999]
trainingDataset = trainingDataset[trainingDataset.wind_bearing != -9999]
trainingDataset = trainingDataset[trainingDataset.wind_speed != -9999]
trainingDataset = trainingDataset[trainingDataset.visibility != -9999]
Y_train = trainingDataset.iloc[:, 0].values
trainingDataset.drop(trainingDataset.columns[[0]], axis=1, inplace=True)

weatherForecast = pd.read_csv('weather_forecast.csv')
weatherForecast['precip_type'] = weatherForecast['precip_type'].replace(np.nan, 'x', regex=True)
weatherForecast['datetime_local'] = pd.to_datetime(weatherForecast['datetime_local'])
for i in range (0, 648):
     weatherForecast['datetime_utc'][i] = weatherForecast.datetime_local[i].hour

weatherForecast["datetime_utc"] = np.where(6>weatherForecast["datetime_utc"], 100 ,weatherForecast["datetime_utc"])
weatherForecast["datetime_utc"] = np.where(weatherForecast["datetime_utc"]>=18, 100 ,weatherForecast["datetime_utc"])
weatherForecast = weatherForecast[weatherForecast.datetime_utc != 100]

weatherForecast.drop(weatherForecast.columns[[0, 1, 2, 3, 11, 13, 15, 17, 18, 19, 21, 26, 27, 30]],  axis=1, inplace=True)

weatherData = pd.concat([trainingDataset, weatherForecast])

weatherData = weatherData.reset_index()
weatherData.drop(weatherData.columns[[0]], axis=1, inplace = True)

X = weatherData.iloc[:, :].values
from sklearn.preprocessing import LabelEncoder, OneHotEncoder
labelencoder_1 = LabelEncoder()
labelencoder_2 = LabelEncoder()
labelencoder_3 = LabelEncoder()
X[:, 16] = labelencoder_1.fit_transform(X[:, 16])
X[:, 15] = labelencoder_2.fit_transform(X[:, 15])
X[:, 13] = labelencoder_3.fit_transform(X[:, 13])
onehotencoder_1 = OneHotEncoder(categorical_features = [15], sparse=True)
X = onehotencoder_1.fit_transform(X).toarray()
onehotencoder_2 = OneHotEncoder(categorical_features = [22], sparse=True)
X = onehotencoder_2.fit_transform(X).toarray()

X_train = X[0:6296, :]

X_test = X[6296:6620 , :]

power = df.iloc[:, 5].values
Time = df.iloc[:, 1].values
plt.plot(Time, power)

from sklearn.preprocessing import StandardScaler
sc_x = StandardScaler()
X_train = sc_x.fit_transform(X_train)
X_test = sc_x.transform(X_test)

from sklearn.svm import SVR
regressor = SVR()
regressor.fit(X_train, Y_train)

Y_pred = regressor.predict(X_test)

from sklearn.model_selection import GridSearchCV
parameters = [{'max_iter': [-1, 100, 200], 'C': [1, 2, 100, 1000], 'tol': [1e-4, 1e-5, 1e-3, 1e-2]}]
grid_search = GridSearchCV(estimator = regressor, cv = 10, n_jobs = -1, scoring = 'accuracy', param_grid = parameters)
grid_search = grid_search.fit(X_train, Y_train)
best_score = grid_search.best_score_
best_parameters = grid_search.best_params_

from sklearn.discriminant_analysis import LinearDiscriminantAnalysis as LDA
lda = LDA(n_components = 2)
X_train = lda.fit_transform(X_train, Y_train)
X_test = lda.transform(X_test)

from sklearn.decomposition import KernelPCA
kpca = KernelPCA(n_components = 2, kernel = 'rbf')
X_train = kpca.fit_transform(X_train)
X_test = kpca.transform(X_test)

from sklearn.model_selection import cross_val_score
accuracies = cross_val_score(estimator = regressor, X = X_train, y = Y_train, cv = 10)
accuracies.mean()
accuracies.std()