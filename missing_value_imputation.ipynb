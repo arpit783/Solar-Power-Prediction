# -*- coding: utf-8 -*-
"""
Created on Sat Jul 11 11:14:16 2020

@author: Hp
"""

import pandas as pd
import numpy as np
weatherActual = pd.read_csv("weather_actuals.csv")
weatherActual['precip_type'] = weatherActual['precip_type'].replace(np.nan, 'x', regex=True)
weatherActual['precip_type'] = weatherActual['precip_type'].astype(str)
weatherActual['precip_type'] = weatherActual['precip_type'].replace(str(-9999),'x')
mean_1 = weatherActual.loc[weatherActual['wind_bearing']>0, 'wind_bearing'].mean()
weatherActual["wind_bearing"] = np.where(weatherActual["wind_bearing"] <0, mean_1 ,weatherActual["wind_bearing"])
mean_2 = weatherActual.loc[weatherActual['wind_speed']>0, 'wind_speed'].mean()
weatherActual["wind_speed"] = np.where(weatherActual["wind_speed"] <0, mean_2 ,weatherActual["wind_speed"])
mean_3 = weatherActual.loc[weatherActual['pressure']>0, 'pressure'].mean()
weatherActual["pressure"] = np.where(weatherActual["pressure"] <0, mean_3 ,weatherActual["pressure"])
mean_4 = weatherActual.loc[weatherActual['cloud_cover']>0, 'cloud_cover'].mean()
weatherActual["cloud_cover"] = np.where(weatherActual["cloud_cover"] <0, mean_4 ,weatherActual["cloud_cover"])
weatherActual.drop(['precip_accumulation', 'fctcode', 'pop', 'snow', 'qpf', 'heat_index', 'wind_chill'], axis=1, inplace=True)


X = weatherActual.iloc[:,:].values
X = X[:, [4, 5, 6, 7, 8, 9, 10, 11, 12, 13, 14, 15, 16, 17, 18, 21, 22]]
from sklearn.preprocessing import LabelEncoder, OneHotEncoder
labelencoder_1 = LabelEncoder()
labelencoder_2 = LabelEncoder()
labelencoder_3 = LabelEncoder()
X[:, 16] = labelencoder_1.fit_transform(X[:, 16])
X[:, 15] = labelencoder_2.fit_transform(X[:, 15])
X[:, 13] = labelencoder_3.fit_transform(X[:, 13])
onehotencoder_1 = OneHotEncoder(categorical_features = [15], sparse=True)
X = onehotencoder_1.fit_transform(X).toarray()
onehotencoder_2 = OneHotEncoder(categorical_features = [23], sparse=True)
X = onehotencoder_2.fit_transform(X).toarray()

test = X[0:3264, :]
train = X[3264:13619, :]

columns = 0, 1, 2, 3, 4, 5, 6, 7, 8, 9, 10, 11, 12, 13, 14, 15, 16, 17, 18, 19, 20, 21, 22, 23, 24, 25, 26, 27, 28, 29, 30, 31, 32, 33, 35, 40, 41

X_train = train[:, columns]

X_test = test[:, columns]

Y_train_1 = train[:, 34]
Y_train_2 = train[:, 36]
Y_train_3 = train[:, 37]
Y_train_4 = train[:, 38]
Y_train_5 = train[:, 39]

from sklearn.preprocessing import StandardScaler
sc_x = StandardScaler()
X_train = sc_x.fit_transform(X_train)
X_test = sc_x.transform(X_test)

from sklearn.linear_model import LinearRegression
regressor_1 = LinearRegression()
regressor_1.fit(X_train, Y_train_1)

y_pred_1 = regressor_1.predict(X_test)

regressor_2 = LinearRegression()
regressor_2.fit(X_train, Y_train_2)

y_pred_2 = regressor_2.predict(X_test)

regressor_3 = LinearRegression()
regressor_3.fit(X_train, Y_train_3)

y_pred_3 = regressor_3.predict(X_test)

regressor_4 = LinearRegression()
regressor_4.fit(X_train, Y_train_4)

y_pred_4 = regressor_4.predict(X_test)

regressor_5 = LinearRegression()
regressor_5.fit(X_train, Y_train_5)

y_pred_5 = regressor_5.predict(X_test)



